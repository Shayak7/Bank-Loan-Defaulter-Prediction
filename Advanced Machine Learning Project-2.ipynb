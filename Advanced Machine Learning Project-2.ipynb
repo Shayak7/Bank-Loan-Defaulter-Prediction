{
 "cells": [
  {
   "cell_type": "markdown",
   "id": "5f0fde3f",
   "metadata": {},
   "source": [
    "## Part 1. Read the dataset and display some information about the dataset. "
   ]
  },
  {
   "cell_type": "code",
   "execution_count": 1,
   "id": "56b8a6ed",
   "metadata": {},
   "outputs": [],
   "source": [
    "import numpy as np\n",
    "import pandas as pd\n",
    "import warnings\n",
    "warnings.filterwarnings('ignore')"
   ]
  },
  {
   "cell_type": "code",
   "execution_count": 2,
   "id": "dcfccd2c",
   "metadata": {},
   "outputs": [
    {
     "data": {
      "text/html": [
       "<div>\n",
       "<style scoped>\n",
       "    .dataframe tbody tr th:only-of-type {\n",
       "        vertical-align: middle;\n",
       "    }\n",
       "\n",
       "    .dataframe tbody tr th {\n",
       "        vertical-align: top;\n",
       "    }\n",
       "\n",
       "    .dataframe thead th {\n",
       "        text-align: right;\n",
       "    }\n",
       "</style>\n",
       "<table border=\"1\" class=\"dataframe\">\n",
       "  <thead>\n",
       "    <tr style=\"text-align: right;\">\n",
       "      <th></th>\n",
       "      <th>0</th>\n",
       "      <th>1</th>\n",
       "      <th>2</th>\n",
       "    </tr>\n",
       "  </thead>\n",
       "  <tbody>\n",
       "    <tr>\n",
       "      <th>ID</th>\n",
       "      <td>65087372</td>\n",
       "      <td>1450153</td>\n",
       "      <td>1969101</td>\n",
       "    </tr>\n",
       "    <tr>\n",
       "      <th>Loan Amount</th>\n",
       "      <td>10000</td>\n",
       "      <td>3609</td>\n",
       "      <td>28276</td>\n",
       "    </tr>\n",
       "    <tr>\n",
       "      <th>Funded Amount</th>\n",
       "      <td>32236</td>\n",
       "      <td>11940</td>\n",
       "      <td>9311</td>\n",
       "    </tr>\n",
       "    <tr>\n",
       "      <th>Funded Amount Investor</th>\n",
       "      <td>12329.36286</td>\n",
       "      <td>12191.99692</td>\n",
       "      <td>21603.22455</td>\n",
       "    </tr>\n",
       "    <tr>\n",
       "      <th>Term</th>\n",
       "      <td>59</td>\n",
       "      <td>59</td>\n",
       "      <td>59</td>\n",
       "    </tr>\n",
       "    <tr>\n",
       "      <th>Batch Enrolled</th>\n",
       "      <td>BAT2522922</td>\n",
       "      <td>BAT1586599</td>\n",
       "      <td>BAT2136391</td>\n",
       "    </tr>\n",
       "    <tr>\n",
       "      <th>Interest Rate</th>\n",
       "      <td>11.135007</td>\n",
       "      <td>12.237563</td>\n",
       "      <td>12.545884</td>\n",
       "    </tr>\n",
       "    <tr>\n",
       "      <th>Grade</th>\n",
       "      <td>B</td>\n",
       "      <td>C</td>\n",
       "      <td>F</td>\n",
       "    </tr>\n",
       "    <tr>\n",
       "      <th>Sub Grade</th>\n",
       "      <td>C4</td>\n",
       "      <td>D3</td>\n",
       "      <td>D4</td>\n",
       "    </tr>\n",
       "    <tr>\n",
       "      <th>Employment Duration</th>\n",
       "      <td>MORTGAGE</td>\n",
       "      <td>RENT</td>\n",
       "      <td>MORTGAGE</td>\n",
       "    </tr>\n",
       "    <tr>\n",
       "      <th>Home Ownership</th>\n",
       "      <td>176346.6267</td>\n",
       "      <td>39833.921</td>\n",
       "      <td>91506.69105</td>\n",
       "    </tr>\n",
       "    <tr>\n",
       "      <th>Verification Status</th>\n",
       "      <td>Not Verified</td>\n",
       "      <td>Source Verified</td>\n",
       "      <td>Source Verified</td>\n",
       "    </tr>\n",
       "    <tr>\n",
       "      <th>Payment Plan</th>\n",
       "      <td>n</td>\n",
       "      <td>n</td>\n",
       "      <td>n</td>\n",
       "    </tr>\n",
       "    <tr>\n",
       "      <th>Loan Title</th>\n",
       "      <td>Debt Consolidation</td>\n",
       "      <td>Debt consolidation</td>\n",
       "      <td>Debt Consolidation</td>\n",
       "    </tr>\n",
       "    <tr>\n",
       "      <th>Debit to Income</th>\n",
       "      <td>16.284758</td>\n",
       "      <td>15.412409</td>\n",
       "      <td>28.137619</td>\n",
       "    </tr>\n",
       "    <tr>\n",
       "      <th>Delinquency - two years</th>\n",
       "      <td>1</td>\n",
       "      <td>0</td>\n",
       "      <td>0</td>\n",
       "    </tr>\n",
       "    <tr>\n",
       "      <th>Inquires - six months</th>\n",
       "      <td>0</td>\n",
       "      <td>0</td>\n",
       "      <td>0</td>\n",
       "    </tr>\n",
       "    <tr>\n",
       "      <th>Open Account</th>\n",
       "      <td>13</td>\n",
       "      <td>12</td>\n",
       "      <td>14</td>\n",
       "    </tr>\n",
       "    <tr>\n",
       "      <th>Public Record</th>\n",
       "      <td>0</td>\n",
       "      <td>0</td>\n",
       "      <td>0</td>\n",
       "    </tr>\n",
       "    <tr>\n",
       "      <th>Revolving Balance</th>\n",
       "      <td>24246</td>\n",
       "      <td>812</td>\n",
       "      <td>1843</td>\n",
       "    </tr>\n",
       "    <tr>\n",
       "      <th>Revolving Utilities</th>\n",
       "      <td>74.932551</td>\n",
       "      <td>78.297186</td>\n",
       "      <td>2.07304</td>\n",
       "    </tr>\n",
       "    <tr>\n",
       "      <th>Total Accounts</th>\n",
       "      <td>7</td>\n",
       "      <td>13</td>\n",
       "      <td>20</td>\n",
       "    </tr>\n",
       "    <tr>\n",
       "      <th>Initial List Status</th>\n",
       "      <td>w</td>\n",
       "      <td>f</td>\n",
       "      <td>w</td>\n",
       "    </tr>\n",
       "    <tr>\n",
       "      <th>Total Received Interest</th>\n",
       "      <td>2929.646315</td>\n",
       "      <td>772.769385</td>\n",
       "      <td>863.324396</td>\n",
       "    </tr>\n",
       "    <tr>\n",
       "      <th>Total Received Late Fee</th>\n",
       "      <td>0.102055</td>\n",
       "      <td>0.036181</td>\n",
       "      <td>18.77866</td>\n",
       "    </tr>\n",
       "    <tr>\n",
       "      <th>Recoveries</th>\n",
       "      <td>2.498291</td>\n",
       "      <td>2.377215</td>\n",
       "      <td>4.316277</td>\n",
       "    </tr>\n",
       "    <tr>\n",
       "      <th>Collection Recovery Fee</th>\n",
       "      <td>0.793724</td>\n",
       "      <td>0.974821</td>\n",
       "      <td>1.020075</td>\n",
       "    </tr>\n",
       "    <tr>\n",
       "      <th>Collection 12 months Medical</th>\n",
       "      <td>0</td>\n",
       "      <td>0</td>\n",
       "      <td>0</td>\n",
       "    </tr>\n",
       "    <tr>\n",
       "      <th>Application Type</th>\n",
       "      <td>INDIVIDUAL</td>\n",
       "      <td>INDIVIDUAL</td>\n",
       "      <td>INDIVIDUAL</td>\n",
       "    </tr>\n",
       "    <tr>\n",
       "      <th>Last week Pay</th>\n",
       "      <td>49</td>\n",
       "      <td>109</td>\n",
       "      <td>66</td>\n",
       "    </tr>\n",
       "    <tr>\n",
       "      <th>Accounts Delinquent</th>\n",
       "      <td>0</td>\n",
       "      <td>0</td>\n",
       "      <td>0</td>\n",
       "    </tr>\n",
       "    <tr>\n",
       "      <th>Total Collection Amount</th>\n",
       "      <td>31</td>\n",
       "      <td>53</td>\n",
       "      <td>34</td>\n",
       "    </tr>\n",
       "    <tr>\n",
       "      <th>Total Current Balance</th>\n",
       "      <td>311301</td>\n",
       "      <td>182610</td>\n",
       "      <td>89801</td>\n",
       "    </tr>\n",
       "    <tr>\n",
       "      <th>Total Revolving Credit Limit</th>\n",
       "      <td>6619</td>\n",
       "      <td>20885</td>\n",
       "      <td>26155</td>\n",
       "    </tr>\n",
       "    <tr>\n",
       "      <th>Loan Status</th>\n",
       "      <td>0</td>\n",
       "      <td>0</td>\n",
       "      <td>0</td>\n",
       "    </tr>\n",
       "  </tbody>\n",
       "</table>\n",
       "</div>"
      ],
      "text/plain": [
       "                                               0                   1  \\\n",
       "ID                                      65087372             1450153   \n",
       "Loan Amount                                10000                3609   \n",
       "Funded Amount                              32236               11940   \n",
       "Funded Amount Investor               12329.36286         12191.99692   \n",
       "Term                                          59                  59   \n",
       "Batch Enrolled                        BAT2522922          BAT1586599   \n",
       "Interest Rate                          11.135007           12.237563   \n",
       "Grade                                          B                   C   \n",
       "Sub Grade                                     C4                  D3   \n",
       "Employment Duration                     MORTGAGE                RENT   \n",
       "Home Ownership                       176346.6267           39833.921   \n",
       "Verification Status                 Not Verified     Source Verified   \n",
       "Payment Plan                                   n                   n   \n",
       "Loan Title                    Debt Consolidation  Debt consolidation   \n",
       "Debit to Income                        16.284758           15.412409   \n",
       "Delinquency - two years                        1                   0   \n",
       "Inquires - six months                          0                   0   \n",
       "Open Account                                  13                  12   \n",
       "Public Record                                  0                   0   \n",
       "Revolving Balance                          24246                 812   \n",
       "Revolving Utilities                    74.932551           78.297186   \n",
       "Total Accounts                                 7                  13   \n",
       "Initial List Status                            w                   f   \n",
       "Total Received Interest              2929.646315          772.769385   \n",
       "Total Received Late Fee                 0.102055            0.036181   \n",
       "Recoveries                              2.498291            2.377215   \n",
       "Collection Recovery Fee                 0.793724            0.974821   \n",
       "Collection 12 months Medical                   0                   0   \n",
       "Application Type                      INDIVIDUAL          INDIVIDUAL   \n",
       "Last week Pay                                 49                 109   \n",
       "Accounts Delinquent                            0                   0   \n",
       "Total Collection Amount                       31                  53   \n",
       "Total Current Balance                     311301              182610   \n",
       "Total Revolving Credit Limit                6619               20885   \n",
       "Loan Status                                    0                   0   \n",
       "\n",
       "                                               2  \n",
       "ID                                       1969101  \n",
       "Loan Amount                                28276  \n",
       "Funded Amount                               9311  \n",
       "Funded Amount Investor               21603.22455  \n",
       "Term                                          59  \n",
       "Batch Enrolled                        BAT2136391  \n",
       "Interest Rate                          12.545884  \n",
       "Grade                                          F  \n",
       "Sub Grade                                     D4  \n",
       "Employment Duration                     MORTGAGE  \n",
       "Home Ownership                       91506.69105  \n",
       "Verification Status              Source Verified  \n",
       "Payment Plan                                   n  \n",
       "Loan Title                    Debt Consolidation  \n",
       "Debit to Income                        28.137619  \n",
       "Delinquency - two years                        0  \n",
       "Inquires - six months                          0  \n",
       "Open Account                                  14  \n",
       "Public Record                                  0  \n",
       "Revolving Balance                           1843  \n",
       "Revolving Utilities                      2.07304  \n",
       "Total Accounts                                20  \n",
       "Initial List Status                            w  \n",
       "Total Received Interest               863.324396  \n",
       "Total Received Late Fee                 18.77866  \n",
       "Recoveries                              4.316277  \n",
       "Collection Recovery Fee                 1.020075  \n",
       "Collection 12 months Medical                   0  \n",
       "Application Type                      INDIVIDUAL  \n",
       "Last week Pay                                 66  \n",
       "Accounts Delinquent                            0  \n",
       "Total Collection Amount                       34  \n",
       "Total Current Balance                      89801  \n",
       "Total Revolving Credit Limit               26155  \n",
       "Loan Status                                    0  "
      ]
     },
     "execution_count": 2,
     "metadata": {},
     "output_type": "execute_result"
    }
   ],
   "source": [
    "df=pd.read_csv('bank_loan_defaulter.csv')\n",
    "df.head(3).T"
   ]
  },
  {
   "cell_type": "code",
   "execution_count": 3,
   "id": "c192781e",
   "metadata": {},
   "outputs": [
    {
     "data": {
      "text/html": [
       "<div>\n",
       "<style scoped>\n",
       "    .dataframe tbody tr th:only-of-type {\n",
       "        vertical-align: middle;\n",
       "    }\n",
       "\n",
       "    .dataframe tbody tr th {\n",
       "        vertical-align: top;\n",
       "    }\n",
       "\n",
       "    .dataframe thead th {\n",
       "        text-align: right;\n",
       "    }\n",
       "</style>\n",
       "<table border=\"1\" class=\"dataframe\">\n",
       "  <thead>\n",
       "    <tr style=\"text-align: right;\">\n",
       "      <th></th>\n",
       "      <th>ID</th>\n",
       "      <th>Loan Amount</th>\n",
       "      <th>Funded Amount</th>\n",
       "      <th>Funded Amount Investor</th>\n",
       "      <th>Term</th>\n",
       "      <th>Batch Enrolled</th>\n",
       "      <th>Interest Rate</th>\n",
       "      <th>Grade</th>\n",
       "      <th>Sub Grade</th>\n",
       "      <th>Employment Duration</th>\n",
       "      <th>...</th>\n",
       "      <th>Recoveries</th>\n",
       "      <th>Collection Recovery Fee</th>\n",
       "      <th>Collection 12 months Medical</th>\n",
       "      <th>Application Type</th>\n",
       "      <th>Last week Pay</th>\n",
       "      <th>Accounts Delinquent</th>\n",
       "      <th>Total Collection Amount</th>\n",
       "      <th>Total Current Balance</th>\n",
       "      <th>Total Revolving Credit Limit</th>\n",
       "      <th>Loan Status</th>\n",
       "    </tr>\n",
       "  </thead>\n",
       "  <tbody>\n",
       "    <tr>\n",
       "      <th>55152</th>\n",
       "      <td>63274178</td>\n",
       "      <td>17085</td>\n",
       "      <td>11476</td>\n",
       "      <td>9381.944703</td>\n",
       "      <td>59</td>\n",
       "      <td>BAT2136391</td>\n",
       "      <td>10.038317</td>\n",
       "      <td>A</td>\n",
       "      <td>C3</td>\n",
       "      <td>MORTGAGE</td>\n",
       "      <td>...</td>\n",
       "      <td>0.208711</td>\n",
       "      <td>0.867815</td>\n",
       "      <td>0</td>\n",
       "      <td>INDIVIDUAL</td>\n",
       "      <td>92</td>\n",
       "      <td>0</td>\n",
       "      <td>23</td>\n",
       "      <td>274980</td>\n",
       "      <td>9124</td>\n",
       "      <td>0</td>\n",
       "    </tr>\n",
       "    <tr>\n",
       "      <th>16799</th>\n",
       "      <td>42386874</td>\n",
       "      <td>10502</td>\n",
       "      <td>22696</td>\n",
       "      <td>12089.108310</td>\n",
       "      <td>59</td>\n",
       "      <td>BAT3461431</td>\n",
       "      <td>12.094534</td>\n",
       "      <td>C</td>\n",
       "      <td>B3</td>\n",
       "      <td>MORTGAGE</td>\n",
       "      <td>...</td>\n",
       "      <td>2.463532</td>\n",
       "      <td>0.011046</td>\n",
       "      <td>0</td>\n",
       "      <td>INDIVIDUAL</td>\n",
       "      <td>80</td>\n",
       "      <td>0</td>\n",
       "      <td>47</td>\n",
       "      <td>85889</td>\n",
       "      <td>5431</td>\n",
       "      <td>0</td>\n",
       "    </tr>\n",
       "    <tr>\n",
       "      <th>6994</th>\n",
       "      <td>14768089</td>\n",
       "      <td>12366</td>\n",
       "      <td>29630</td>\n",
       "      <td>3947.979274</td>\n",
       "      <td>59</td>\n",
       "      <td>BAT5341619</td>\n",
       "      <td>8.338107</td>\n",
       "      <td>C</td>\n",
       "      <td>D4</td>\n",
       "      <td>RENT</td>\n",
       "      <td>...</td>\n",
       "      <td>0.416175</td>\n",
       "      <td>0.760567</td>\n",
       "      <td>0</td>\n",
       "      <td>INDIVIDUAL</td>\n",
       "      <td>81</td>\n",
       "      <td>0</td>\n",
       "      <td>49</td>\n",
       "      <td>279896</td>\n",
       "      <td>46676</td>\n",
       "      <td>0</td>\n",
       "    </tr>\n",
       "  </tbody>\n",
       "</table>\n",
       "<p>3 rows × 35 columns</p>\n",
       "</div>"
      ],
      "text/plain": [
       "             ID  Loan Amount  Funded Amount  Funded Amount Investor  Term  \\\n",
       "55152  63274178        17085          11476             9381.944703    59   \n",
       "16799  42386874        10502          22696            12089.108310    59   \n",
       "6994   14768089        12366          29630             3947.979274    59   \n",
       "\n",
       "      Batch Enrolled  Interest Rate Grade Sub Grade Employment Duration  ...  \\\n",
       "55152     BAT2136391      10.038317     A        C3            MORTGAGE  ...   \n",
       "16799     BAT3461431      12.094534     C        B3            MORTGAGE  ...   \n",
       "6994      BAT5341619       8.338107     C        D4                RENT  ...   \n",
       "\n",
       "       Recoveries Collection Recovery Fee Collection 12 months Medical  \\\n",
       "55152    0.208711                0.867815                            0   \n",
       "16799    2.463532                0.011046                            0   \n",
       "6994     0.416175                0.760567                            0   \n",
       "\n",
       "      Application Type  Last week Pay  Accounts Delinquent  \\\n",
       "55152       INDIVIDUAL             92                    0   \n",
       "16799       INDIVIDUAL             80                    0   \n",
       "6994        INDIVIDUAL             81                    0   \n",
       "\n",
       "       Total Collection Amount  Total Current Balance  \\\n",
       "55152                       23                 274980   \n",
       "16799                       47                  85889   \n",
       "6994                        49                 279896   \n",
       "\n",
       "       Total Revolving Credit Limit  Loan Status  \n",
       "55152                          9124            0  \n",
       "16799                          5431            0  \n",
       "6994                          46676            0  \n",
       "\n",
       "[3 rows x 35 columns]"
      ]
     },
     "execution_count": 3,
     "metadata": {},
     "output_type": "execute_result"
    }
   ],
   "source": [
    "df.sample(3)"
   ]
  },
  {
   "cell_type": "code",
   "execution_count": 4,
   "id": "6a625adf",
   "metadata": {},
   "outputs": [
    {
     "data": {
      "text/plain": [
       "(67463, 35)"
      ]
     },
     "execution_count": 4,
     "metadata": {},
     "output_type": "execute_result"
    }
   ],
   "source": [
    "df.shape"
   ]
  },
  {
   "cell_type": "code",
   "execution_count": 5,
   "id": "dd4072ff",
   "metadata": {},
   "outputs": [
    {
     "name": "stdout",
     "output_type": "stream",
     "text": [
      "<class 'pandas.core.frame.DataFrame'>\n",
      "RangeIndex: 67463 entries, 0 to 67462\n",
      "Data columns (total 35 columns):\n",
      " #   Column                        Non-Null Count  Dtype  \n",
      "---  ------                        --------------  -----  \n",
      " 0   ID                            67463 non-null  int64  \n",
      " 1   Loan Amount                   67463 non-null  int64  \n",
      " 2   Funded Amount                 67463 non-null  int64  \n",
      " 3   Funded Amount Investor        67463 non-null  float64\n",
      " 4   Term                          67463 non-null  int64  \n",
      " 5   Batch Enrolled                67463 non-null  object \n",
      " 6   Interest Rate                 67463 non-null  float64\n",
      " 7   Grade                         67463 non-null  object \n",
      " 8   Sub Grade                     67463 non-null  object \n",
      " 9   Employment Duration           67463 non-null  object \n",
      " 10  Home Ownership                67463 non-null  float64\n",
      " 11  Verification Status           67463 non-null  object \n",
      " 12  Payment Plan                  67463 non-null  object \n",
      " 13  Loan Title                    67463 non-null  object \n",
      " 14  Debit to Income               67463 non-null  float64\n",
      " 15  Delinquency - two years       67463 non-null  int64  \n",
      " 16  Inquires - six months         67463 non-null  int64  \n",
      " 17  Open Account                  67463 non-null  int64  \n",
      " 18  Public Record                 67463 non-null  int64  \n",
      " 19  Revolving Balance             67463 non-null  int64  \n",
      " 20  Revolving Utilities           67463 non-null  float64\n",
      " 21  Total Accounts                67463 non-null  int64  \n",
      " 22  Initial List Status           67463 non-null  object \n",
      " 23  Total Received Interest       67463 non-null  float64\n",
      " 24  Total Received Late Fee       67463 non-null  float64\n",
      " 25  Recoveries                    67463 non-null  float64\n",
      " 26  Collection Recovery Fee       67463 non-null  float64\n",
      " 27  Collection 12 months Medical  67463 non-null  int64  \n",
      " 28  Application Type              67463 non-null  object \n",
      " 29  Last week Pay                 67463 non-null  int64  \n",
      " 30  Accounts Delinquent           67463 non-null  int64  \n",
      " 31  Total Collection Amount       67463 non-null  int64  \n",
      " 32  Total Current Balance         67463 non-null  int64  \n",
      " 33  Total Revolving Credit Limit  67463 non-null  int64  \n",
      " 34  Loan Status                   67463 non-null  int64  \n",
      "dtypes: float64(9), int64(17), object(9)\n",
      "memory usage: 18.0+ MB\n"
     ]
    }
   ],
   "source": [
    "df.info()"
   ]
  },
  {
   "cell_type": "code",
   "execution_count": 6,
   "id": "089c1183",
   "metadata": {},
   "outputs": [
    {
     "data": {
      "text/plain": [
       "Index(['ID', 'Loan Amount', 'Funded Amount', 'Funded Amount Investor', 'Term',\n",
       "       'Batch Enrolled', 'Interest Rate', 'Grade', 'Sub Grade',\n",
       "       'Employment Duration', 'Home Ownership', 'Verification Status',\n",
       "       'Payment Plan', 'Loan Title', 'Debit to Income',\n",
       "       'Delinquency - two years', 'Inquires - six months', 'Open Account',\n",
       "       'Public Record', 'Revolving Balance', 'Revolving Utilities',\n",
       "       'Total Accounts', 'Initial List Status', 'Total Received Interest',\n",
       "       'Total Received Late Fee', 'Recoveries', 'Collection Recovery Fee',\n",
       "       'Collection 12 months Medical', 'Application Type', 'Last week Pay',\n",
       "       'Accounts Delinquent', 'Total Collection Amount',\n",
       "       'Total Current Balance', 'Total Revolving Credit Limit', 'Loan Status'],\n",
       "      dtype='object')"
      ]
     },
     "execution_count": 6,
     "metadata": {},
     "output_type": "execute_result"
    }
   ],
   "source": [
    "df.columns"
   ]
  },
  {
   "cell_type": "markdown",
   "id": "35611940",
   "metadata": {},
   "source": [
    "## Part 2. Data cleansing and Exploratory data analysis: "
   ]
  },
  {
   "cell_type": "code",
   "execution_count": 7,
   "id": "9de57284",
   "metadata": {},
   "outputs": [
    {
     "data": {
      "text/plain": [
       "0"
      ]
     },
     "execution_count": 7,
     "metadata": {},
     "output_type": "execute_result"
    }
   ],
   "source": [
    "len(df[df.duplicated()])"
   ]
  },
  {
   "cell_type": "code",
   "execution_count": 8,
   "id": "f2858d89",
   "metadata": {},
   "outputs": [
    {
     "data": {
      "text/plain": [
       "ID                              0.0\n",
       "Loan Amount                     0.0\n",
       "Funded Amount                   0.0\n",
       "Funded Amount Investor          0.0\n",
       "Term                            0.0\n",
       "Batch Enrolled                  0.0\n",
       "Interest Rate                   0.0\n",
       "Grade                           0.0\n",
       "Sub Grade                       0.0\n",
       "Employment Duration             0.0\n",
       "Home Ownership                  0.0\n",
       "Verification Status             0.0\n",
       "Payment Plan                    0.0\n",
       "Loan Title                      0.0\n",
       "Debit to Income                 0.0\n",
       "Delinquency - two years         0.0\n",
       "Inquires - six months           0.0\n",
       "Open Account                    0.0\n",
       "Public Record                   0.0\n",
       "Revolving Balance               0.0\n",
       "Revolving Utilities             0.0\n",
       "Total Accounts                  0.0\n",
       "Initial List Status             0.0\n",
       "Total Received Interest         0.0\n",
       "Total Received Late Fee         0.0\n",
       "Recoveries                      0.0\n",
       "Collection Recovery Fee         0.0\n",
       "Collection 12 months Medical    0.0\n",
       "Application Type                0.0\n",
       "Last week Pay                   0.0\n",
       "Accounts Delinquent             0.0\n",
       "Total Collection Amount         0.0\n",
       "Total Current Balance           0.0\n",
       "Total Revolving Credit Limit    0.0\n",
       "Loan Status                     0.0\n",
       "dtype: float64"
      ]
     },
     "execution_count": 8,
     "metadata": {},
     "output_type": "execute_result"
    }
   ],
   "source": [
    "df.isnull().sum()/len(df)*100"
   ]
  },
  {
   "cell_type": "code",
   "execution_count": 9,
   "id": "52511b64",
   "metadata": {},
   "outputs": [
    {
     "data": {
      "text/html": [
       "<div>\n",
       "<style scoped>\n",
       "    .dataframe tbody tr th:only-of-type {\n",
       "        vertical-align: middle;\n",
       "    }\n",
       "\n",
       "    .dataframe tbody tr th {\n",
       "        vertical-align: top;\n",
       "    }\n",
       "\n",
       "    .dataframe thead th {\n",
       "        text-align: right;\n",
       "    }\n",
       "</style>\n",
       "<table border=\"1\" class=\"dataframe\">\n",
       "  <thead>\n",
       "    <tr style=\"text-align: right;\">\n",
       "      <th></th>\n",
       "      <th>count</th>\n",
       "      <th>mean</th>\n",
       "      <th>std</th>\n",
       "      <th>min</th>\n",
       "      <th>25%</th>\n",
       "      <th>50%</th>\n",
       "      <th>75%</th>\n",
       "      <th>max</th>\n",
       "    </tr>\n",
       "  </thead>\n",
       "  <tbody>\n",
       "    <tr>\n",
       "      <th>ID</th>\n",
       "      <td>67463.0</td>\n",
       "      <td>2.562761e+07</td>\n",
       "      <td>2.109155e+07</td>\n",
       "      <td>1.297933e+06</td>\n",
       "      <td>6.570288e+06</td>\n",
       "      <td>1.791565e+07</td>\n",
       "      <td>4.271521e+07</td>\n",
       "      <td>7.224578e+07</td>\n",
       "    </tr>\n",
       "    <tr>\n",
       "      <th>Loan Amount</th>\n",
       "      <td>67463.0</td>\n",
       "      <td>1.684890e+04</td>\n",
       "      <td>8.367866e+03</td>\n",
       "      <td>1.014000e+03</td>\n",
       "      <td>1.001200e+04</td>\n",
       "      <td>1.607300e+04</td>\n",
       "      <td>2.210600e+04</td>\n",
       "      <td>3.500000e+04</td>\n",
       "    </tr>\n",
       "    <tr>\n",
       "      <th>Funded Amount</th>\n",
       "      <td>67463.0</td>\n",
       "      <td>1.577060e+04</td>\n",
       "      <td>8.150993e+03</td>\n",
       "      <td>1.014000e+03</td>\n",
       "      <td>9.266500e+03</td>\n",
       "      <td>1.304200e+04</td>\n",
       "      <td>2.179300e+04</td>\n",
       "      <td>3.499900e+04</td>\n",
       "    </tr>\n",
       "    <tr>\n",
       "      <th>Funded Amount Investor</th>\n",
       "      <td>67463.0</td>\n",
       "      <td>1.462180e+04</td>\n",
       "      <td>6.785345e+03</td>\n",
       "      <td>1.114590e+03</td>\n",
       "      <td>9.831685e+03</td>\n",
       "      <td>1.279368e+04</td>\n",
       "      <td>1.780759e+04</td>\n",
       "      <td>3.499975e+04</td>\n",
       "    </tr>\n",
       "    <tr>\n",
       "      <th>Term</th>\n",
       "      <td>67463.0</td>\n",
       "      <td>5.817381e+01</td>\n",
       "      <td>3.327441e+00</td>\n",
       "      <td>3.600000e+01</td>\n",
       "      <td>5.800000e+01</td>\n",
       "      <td>5.900000e+01</td>\n",
       "      <td>5.900000e+01</td>\n",
       "      <td>5.900000e+01</td>\n",
       "    </tr>\n",
       "    <tr>\n",
       "      <th>Interest Rate</th>\n",
       "      <td>67463.0</td>\n",
       "      <td>1.184626e+01</td>\n",
       "      <td>3.718629e+00</td>\n",
       "      <td>5.320006e+00</td>\n",
       "      <td>9.297147e+00</td>\n",
       "      <td>1.137770e+01</td>\n",
       "      <td>1.419353e+01</td>\n",
       "      <td>2.718235e+01</td>\n",
       "    </tr>\n",
       "    <tr>\n",
       "      <th>Home Ownership</th>\n",
       "      <td>67463.0</td>\n",
       "      <td>8.054150e+04</td>\n",
       "      <td>4.502912e+04</td>\n",
       "      <td>1.457354e+04</td>\n",
       "      <td>5.168984e+04</td>\n",
       "      <td>6.933583e+04</td>\n",
       "      <td>9.462332e+04</td>\n",
       "      <td>4.065615e+05</td>\n",
       "    </tr>\n",
       "    <tr>\n",
       "      <th>Debit to Income</th>\n",
       "      <td>67463.0</td>\n",
       "      <td>2.329924e+01</td>\n",
       "      <td>8.451824e+00</td>\n",
       "      <td>6.752991e-01</td>\n",
       "      <td>1.675642e+01</td>\n",
       "      <td>2.265666e+01</td>\n",
       "      <td>3.004840e+01</td>\n",
       "      <td>3.962986e+01</td>\n",
       "    </tr>\n",
       "    <tr>\n",
       "      <th>Delinquency - two years</th>\n",
       "      <td>67463.0</td>\n",
       "      <td>3.271275e-01</td>\n",
       "      <td>8.008884e-01</td>\n",
       "      <td>0.000000e+00</td>\n",
       "      <td>0.000000e+00</td>\n",
       "      <td>0.000000e+00</td>\n",
       "      <td>0.000000e+00</td>\n",
       "      <td>8.000000e+00</td>\n",
       "    </tr>\n",
       "    <tr>\n",
       "      <th>Inquires - six months</th>\n",
       "      <td>67463.0</td>\n",
       "      <td>1.457540e-01</td>\n",
       "      <td>4.732913e-01</td>\n",
       "      <td>0.000000e+00</td>\n",
       "      <td>0.000000e+00</td>\n",
       "      <td>0.000000e+00</td>\n",
       "      <td>0.000000e+00</td>\n",
       "      <td>5.000000e+00</td>\n",
       "    </tr>\n",
       "    <tr>\n",
       "      <th>Open Account</th>\n",
       "      <td>67463.0</td>\n",
       "      <td>1.426656e+01</td>\n",
       "      <td>6.225060e+00</td>\n",
       "      <td>2.000000e+00</td>\n",
       "      <td>1.000000e+01</td>\n",
       "      <td>1.300000e+01</td>\n",
       "      <td>1.600000e+01</td>\n",
       "      <td>3.700000e+01</td>\n",
       "    </tr>\n",
       "    <tr>\n",
       "      <th>Public Record</th>\n",
       "      <td>67463.0</td>\n",
       "      <td>8.143723e-02</td>\n",
       "      <td>3.466057e-01</td>\n",
       "      <td>0.000000e+00</td>\n",
       "      <td>0.000000e+00</td>\n",
       "      <td>0.000000e+00</td>\n",
       "      <td>0.000000e+00</td>\n",
       "      <td>4.000000e+00</td>\n",
       "    </tr>\n",
       "    <tr>\n",
       "      <th>Revolving Balance</th>\n",
       "      <td>67463.0</td>\n",
       "      <td>7.699342e+03</td>\n",
       "      <td>7.836148e+03</td>\n",
       "      <td>0.000000e+00</td>\n",
       "      <td>2.557000e+03</td>\n",
       "      <td>5.516000e+03</td>\n",
       "      <td>1.018450e+04</td>\n",
       "      <td>1.169330e+05</td>\n",
       "    </tr>\n",
       "    <tr>\n",
       "      <th>Revolving Utilities</th>\n",
       "      <td>67463.0</td>\n",
       "      <td>5.288944e+01</td>\n",
       "      <td>2.253945e+01</td>\n",
       "      <td>5.172360e-03</td>\n",
       "      <td>3.865882e+01</td>\n",
       "      <td>5.408233e+01</td>\n",
       "      <td>6.917712e+01</td>\n",
       "      <td>1.008800e+02</td>\n",
       "    </tr>\n",
       "    <tr>\n",
       "      <th>Total Accounts</th>\n",
       "      <td>67463.0</td>\n",
       "      <td>1.862793e+01</td>\n",
       "      <td>8.319246e+00</td>\n",
       "      <td>4.000000e+00</td>\n",
       "      <td>1.300000e+01</td>\n",
       "      <td>1.800000e+01</td>\n",
       "      <td>2.300000e+01</td>\n",
       "      <td>7.200000e+01</td>\n",
       "    </tr>\n",
       "    <tr>\n",
       "      <th>Total Received Interest</th>\n",
       "      <td>67463.0</td>\n",
       "      <td>2.068993e+03</td>\n",
       "      <td>2.221919e+03</td>\n",
       "      <td>4.736746e+00</td>\n",
       "      <td>5.709038e+02</td>\n",
       "      <td>1.330843e+03</td>\n",
       "      <td>2.656957e+03</td>\n",
       "      <td>1.430137e+04</td>\n",
       "    </tr>\n",
       "    <tr>\n",
       "      <th>Total Received Late Fee</th>\n",
       "      <td>67463.0</td>\n",
       "      <td>1.143969e+00</td>\n",
       "      <td>5.244365e+00</td>\n",
       "      <td>3.060000e-06</td>\n",
       "      <td>2.111387e-02</td>\n",
       "      <td>4.339755e-02</td>\n",
       "      <td>7.188398e-02</td>\n",
       "      <td>4.261888e+01</td>\n",
       "    </tr>\n",
       "    <tr>\n",
       "      <th>Recoveries</th>\n",
       "      <td>67463.0</td>\n",
       "      <td>5.969158e+01</td>\n",
       "      <td>3.570263e+02</td>\n",
       "      <td>3.560000e-05</td>\n",
       "      <td>1.629818e+00</td>\n",
       "      <td>3.344524e+00</td>\n",
       "      <td>5.453727e+00</td>\n",
       "      <td>4.354467e+03</td>\n",
       "    </tr>\n",
       "    <tr>\n",
       "      <th>Collection Recovery Fee</th>\n",
       "      <td>67463.0</td>\n",
       "      <td>1.125141e+00</td>\n",
       "      <td>3.489885e+00</td>\n",
       "      <td>3.620000e-05</td>\n",
       "      <td>4.762594e-01</td>\n",
       "      <td>7.801406e-01</td>\n",
       "      <td>1.070566e+00</td>\n",
       "      <td>1.668330e+02</td>\n",
       "    </tr>\n",
       "    <tr>\n",
       "      <th>Collection 12 months Medical</th>\n",
       "      <td>67463.0</td>\n",
       "      <td>2.130056e-02</td>\n",
       "      <td>1.443855e-01</td>\n",
       "      <td>0.000000e+00</td>\n",
       "      <td>0.000000e+00</td>\n",
       "      <td>0.000000e+00</td>\n",
       "      <td>0.000000e+00</td>\n",
       "      <td>1.000000e+00</td>\n",
       "    </tr>\n",
       "    <tr>\n",
       "      <th>Last week Pay</th>\n",
       "      <td>67463.0</td>\n",
       "      <td>7.116326e+01</td>\n",
       "      <td>4.331585e+01</td>\n",
       "      <td>0.000000e+00</td>\n",
       "      <td>3.500000e+01</td>\n",
       "      <td>6.800000e+01</td>\n",
       "      <td>1.050000e+02</td>\n",
       "      <td>1.610000e+02</td>\n",
       "    </tr>\n",
       "    <tr>\n",
       "      <th>Accounts Delinquent</th>\n",
       "      <td>67463.0</td>\n",
       "      <td>0.000000e+00</td>\n",
       "      <td>0.000000e+00</td>\n",
       "      <td>0.000000e+00</td>\n",
       "      <td>0.000000e+00</td>\n",
       "      <td>0.000000e+00</td>\n",
       "      <td>0.000000e+00</td>\n",
       "      <td>0.000000e+00</td>\n",
       "    </tr>\n",
       "    <tr>\n",
       "      <th>Total Collection Amount</th>\n",
       "      <td>67463.0</td>\n",
       "      <td>1.464680e+02</td>\n",
       "      <td>7.443822e+02</td>\n",
       "      <td>1.000000e+00</td>\n",
       "      <td>2.400000e+01</td>\n",
       "      <td>3.600000e+01</td>\n",
       "      <td>4.600000e+01</td>\n",
       "      <td>1.642100e+04</td>\n",
       "    </tr>\n",
       "    <tr>\n",
       "      <th>Total Current Balance</th>\n",
       "      <td>67463.0</td>\n",
       "      <td>1.595739e+05</td>\n",
       "      <td>1.390332e+05</td>\n",
       "      <td>6.170000e+02</td>\n",
       "      <td>5.037900e+04</td>\n",
       "      <td>1.183690e+05</td>\n",
       "      <td>2.283750e+05</td>\n",
       "      <td>1.177412e+06</td>\n",
       "    </tr>\n",
       "    <tr>\n",
       "      <th>Total Revolving Credit Limit</th>\n",
       "      <td>67463.0</td>\n",
       "      <td>2.312301e+04</td>\n",
       "      <td>2.091670e+04</td>\n",
       "      <td>1.000000e+03</td>\n",
       "      <td>8.155500e+03</td>\n",
       "      <td>1.673300e+04</td>\n",
       "      <td>3.214650e+04</td>\n",
       "      <td>2.011690e+05</td>\n",
       "    </tr>\n",
       "    <tr>\n",
       "      <th>Loan Status</th>\n",
       "      <td>67463.0</td>\n",
       "      <td>9.250997e-02</td>\n",
       "      <td>2.897466e-01</td>\n",
       "      <td>0.000000e+00</td>\n",
       "      <td>0.000000e+00</td>\n",
       "      <td>0.000000e+00</td>\n",
       "      <td>0.000000e+00</td>\n",
       "      <td>1.000000e+00</td>\n",
       "    </tr>\n",
       "  </tbody>\n",
       "</table>\n",
       "</div>"
      ],
      "text/plain": [
       "                                count          mean           std  \\\n",
       "ID                            67463.0  2.562761e+07  2.109155e+07   \n",
       "Loan Amount                   67463.0  1.684890e+04  8.367866e+03   \n",
       "Funded Amount                 67463.0  1.577060e+04  8.150993e+03   \n",
       "Funded Amount Investor        67463.0  1.462180e+04  6.785345e+03   \n",
       "Term                          67463.0  5.817381e+01  3.327441e+00   \n",
       "Interest Rate                 67463.0  1.184626e+01  3.718629e+00   \n",
       "Home Ownership                67463.0  8.054150e+04  4.502912e+04   \n",
       "Debit to Income               67463.0  2.329924e+01  8.451824e+00   \n",
       "Delinquency - two years       67463.0  3.271275e-01  8.008884e-01   \n",
       "Inquires - six months         67463.0  1.457540e-01  4.732913e-01   \n",
       "Open Account                  67463.0  1.426656e+01  6.225060e+00   \n",
       "Public Record                 67463.0  8.143723e-02  3.466057e-01   \n",
       "Revolving Balance             67463.0  7.699342e+03  7.836148e+03   \n",
       "Revolving Utilities           67463.0  5.288944e+01  2.253945e+01   \n",
       "Total Accounts                67463.0  1.862793e+01  8.319246e+00   \n",
       "Total Received Interest       67463.0  2.068993e+03  2.221919e+03   \n",
       "Total Received Late Fee       67463.0  1.143969e+00  5.244365e+00   \n",
       "Recoveries                    67463.0  5.969158e+01  3.570263e+02   \n",
       "Collection Recovery Fee       67463.0  1.125141e+00  3.489885e+00   \n",
       "Collection 12 months Medical  67463.0  2.130056e-02  1.443855e-01   \n",
       "Last week Pay                 67463.0  7.116326e+01  4.331585e+01   \n",
       "Accounts Delinquent           67463.0  0.000000e+00  0.000000e+00   \n",
       "Total Collection Amount       67463.0  1.464680e+02  7.443822e+02   \n",
       "Total Current Balance         67463.0  1.595739e+05  1.390332e+05   \n",
       "Total Revolving Credit Limit  67463.0  2.312301e+04  2.091670e+04   \n",
       "Loan Status                   67463.0  9.250997e-02  2.897466e-01   \n",
       "\n",
       "                                       min           25%           50%  \\\n",
       "ID                            1.297933e+06  6.570288e+06  1.791565e+07   \n",
       "Loan Amount                   1.014000e+03  1.001200e+04  1.607300e+04   \n",
       "Funded Amount                 1.014000e+03  9.266500e+03  1.304200e+04   \n",
       "Funded Amount Investor        1.114590e+03  9.831685e+03  1.279368e+04   \n",
       "Term                          3.600000e+01  5.800000e+01  5.900000e+01   \n",
       "Interest Rate                 5.320006e+00  9.297147e+00  1.137770e+01   \n",
       "Home Ownership                1.457354e+04  5.168984e+04  6.933583e+04   \n",
       "Debit to Income               6.752991e-01  1.675642e+01  2.265666e+01   \n",
       "Delinquency - two years       0.000000e+00  0.000000e+00  0.000000e+00   \n",
       "Inquires - six months         0.000000e+00  0.000000e+00  0.000000e+00   \n",
       "Open Account                  2.000000e+00  1.000000e+01  1.300000e+01   \n",
       "Public Record                 0.000000e+00  0.000000e+00  0.000000e+00   \n",
       "Revolving Balance             0.000000e+00  2.557000e+03  5.516000e+03   \n",
       "Revolving Utilities           5.172360e-03  3.865882e+01  5.408233e+01   \n",
       "Total Accounts                4.000000e+00  1.300000e+01  1.800000e+01   \n",
       "Total Received Interest       4.736746e+00  5.709038e+02  1.330843e+03   \n",
       "Total Received Late Fee       3.060000e-06  2.111387e-02  4.339755e-02   \n",
       "Recoveries                    3.560000e-05  1.629818e+00  3.344524e+00   \n",
       "Collection Recovery Fee       3.620000e-05  4.762594e-01  7.801406e-01   \n",
       "Collection 12 months Medical  0.000000e+00  0.000000e+00  0.000000e+00   \n",
       "Last week Pay                 0.000000e+00  3.500000e+01  6.800000e+01   \n",
       "Accounts Delinquent           0.000000e+00  0.000000e+00  0.000000e+00   \n",
       "Total Collection Amount       1.000000e+00  2.400000e+01  3.600000e+01   \n",
       "Total Current Balance         6.170000e+02  5.037900e+04  1.183690e+05   \n",
       "Total Revolving Credit Limit  1.000000e+03  8.155500e+03  1.673300e+04   \n",
       "Loan Status                   0.000000e+00  0.000000e+00  0.000000e+00   \n",
       "\n",
       "                                       75%           max  \n",
       "ID                            4.271521e+07  7.224578e+07  \n",
       "Loan Amount                   2.210600e+04  3.500000e+04  \n",
       "Funded Amount                 2.179300e+04  3.499900e+04  \n",
       "Funded Amount Investor        1.780759e+04  3.499975e+04  \n",
       "Term                          5.900000e+01  5.900000e+01  \n",
       "Interest Rate                 1.419353e+01  2.718235e+01  \n",
       "Home Ownership                9.462332e+04  4.065615e+05  \n",
       "Debit to Income               3.004840e+01  3.962986e+01  \n",
       "Delinquency - two years       0.000000e+00  8.000000e+00  \n",
       "Inquires - six months         0.000000e+00  5.000000e+00  \n",
       "Open Account                  1.600000e+01  3.700000e+01  \n",
       "Public Record                 0.000000e+00  4.000000e+00  \n",
       "Revolving Balance             1.018450e+04  1.169330e+05  \n",
       "Revolving Utilities           6.917712e+01  1.008800e+02  \n",
       "Total Accounts                2.300000e+01  7.200000e+01  \n",
       "Total Received Interest       2.656957e+03  1.430137e+04  \n",
       "Total Received Late Fee       7.188398e-02  4.261888e+01  \n",
       "Recoveries                    5.453727e+00  4.354467e+03  \n",
       "Collection Recovery Fee       1.070566e+00  1.668330e+02  \n",
       "Collection 12 months Medical  0.000000e+00  1.000000e+00  \n",
       "Last week Pay                 1.050000e+02  1.610000e+02  \n",
       "Accounts Delinquent           0.000000e+00  0.000000e+00  \n",
       "Total Collection Amount       4.600000e+01  1.642100e+04  \n",
       "Total Current Balance         2.283750e+05  1.177412e+06  \n",
       "Total Revolving Credit Limit  3.214650e+04  2.011690e+05  \n",
       "Loan Status                   0.000000e+00  1.000000e+00  "
      ]
     },
     "execution_count": 9,
     "metadata": {},
     "output_type": "execute_result"
    }
   ],
   "source": [
    "df.describe().T"
   ]
  },
  {
   "cell_type": "code",
   "execution_count": 10,
   "id": "486cfc2a",
   "metadata": {},
   "outputs": [
    {
     "data": {
      "text/html": [
       "<div>\n",
       "<style scoped>\n",
       "    .dataframe tbody tr th:only-of-type {\n",
       "        vertical-align: middle;\n",
       "    }\n",
       "\n",
       "    .dataframe tbody tr th {\n",
       "        vertical-align: top;\n",
       "    }\n",
       "\n",
       "    .dataframe thead th {\n",
       "        text-align: right;\n",
       "    }\n",
       "</style>\n",
       "<table border=\"1\" class=\"dataframe\">\n",
       "  <thead>\n",
       "    <tr style=\"text-align: right;\">\n",
       "      <th></th>\n",
       "      <th>count</th>\n",
       "      <th>unique</th>\n",
       "      <th>top</th>\n",
       "      <th>freq</th>\n",
       "    </tr>\n",
       "  </thead>\n",
       "  <tbody>\n",
       "    <tr>\n",
       "      <th>Batch Enrolled</th>\n",
       "      <td>67463</td>\n",
       "      <td>41</td>\n",
       "      <td>BAT3873588</td>\n",
       "      <td>3626</td>\n",
       "    </tr>\n",
       "    <tr>\n",
       "      <th>Grade</th>\n",
       "      <td>67463</td>\n",
       "      <td>7</td>\n",
       "      <td>C</td>\n",
       "      <td>19085</td>\n",
       "    </tr>\n",
       "    <tr>\n",
       "      <th>Sub Grade</th>\n",
       "      <td>67463</td>\n",
       "      <td>35</td>\n",
       "      <td>B4</td>\n",
       "      <td>4462</td>\n",
       "    </tr>\n",
       "    <tr>\n",
       "      <th>Employment Duration</th>\n",
       "      <td>67463</td>\n",
       "      <td>3</td>\n",
       "      <td>MORTGAGE</td>\n",
       "      <td>36351</td>\n",
       "    </tr>\n",
       "    <tr>\n",
       "      <th>Verification Status</th>\n",
       "      <td>67463</td>\n",
       "      <td>3</td>\n",
       "      <td>Source Verified</td>\n",
       "      <td>33036</td>\n",
       "    </tr>\n",
       "    <tr>\n",
       "      <th>Payment Plan</th>\n",
       "      <td>67463</td>\n",
       "      <td>1</td>\n",
       "      <td>n</td>\n",
       "      <td>67463</td>\n",
       "    </tr>\n",
       "    <tr>\n",
       "      <th>Loan Title</th>\n",
       "      <td>67463</td>\n",
       "      <td>109</td>\n",
       "      <td>Credit card refinancing</td>\n",
       "      <td>30728</td>\n",
       "    </tr>\n",
       "    <tr>\n",
       "      <th>Initial List Status</th>\n",
       "      <td>67463</td>\n",
       "      <td>2</td>\n",
       "      <td>w</td>\n",
       "      <td>36299</td>\n",
       "    </tr>\n",
       "    <tr>\n",
       "      <th>Application Type</th>\n",
       "      <td>67463</td>\n",
       "      <td>2</td>\n",
       "      <td>INDIVIDUAL</td>\n",
       "      <td>67340</td>\n",
       "    </tr>\n",
       "  </tbody>\n",
       "</table>\n",
       "</div>"
      ],
      "text/plain": [
       "                     count unique                      top   freq\n",
       "Batch Enrolled       67463     41               BAT3873588   3626\n",
       "Grade                67463      7                        C  19085\n",
       "Sub Grade            67463     35                       B4   4462\n",
       "Employment Duration  67463      3                 MORTGAGE  36351\n",
       "Verification Status  67463      3          Source Verified  33036\n",
       "Payment Plan         67463      1                        n  67463\n",
       "Loan Title           67463    109  Credit card refinancing  30728\n",
       "Initial List Status  67463      2                        w  36299\n",
       "Application Type     67463      2               INDIVIDUAL  67340"
      ]
     },
     "execution_count": 10,
     "metadata": {},
     "output_type": "execute_result"
    }
   ],
   "source": [
    "df.describe(include='O').T"
   ]
  },
  {
   "cell_type": "code",
   "execution_count": 11,
   "id": "02faea78",
   "metadata": {},
   "outputs": [],
   "source": [
    "import seaborn as sns\n",
    "import matplotlib.pyplot as plt"
   ]
  },
  {
   "cell_type": "code",
   "execution_count": 12,
   "id": "fb8229c0",
   "metadata": {},
   "outputs": [],
   "source": [
    "sns.set(rc={'figure.figsize':(10,6)})"
   ]
  },
  {
   "cell_type": "code",
   "execution_count": 13,
   "id": "b5108dac",
   "metadata": {},
   "outputs": [
    {
     "data": {
      "text/plain": [
       "<AxesSubplot:xlabel='Application Type', ylabel='count'>"
      ]
     },
     "execution_count": 13,
     "metadata": {},
     "output_type": "execute_result"
    },
    {
     "data": {
      "image/png": "[encoded data removed]",
      "text/plain": [
       "<Figure size 720x432 with 1 Axes>"
      ]
     },
     "metadata": {},
     "output_type": "display_data"
    }
   ],
   "source": [
    "sns.countplot(data=df,x='Application Type',hue='Loan Status')"
   ]
  },
  {
   "cell_type": "code",
   "execution_count": 14,
   "id": "6fcacdf4",
   "metadata": {},
   "outputs": [
    {
     "data": {
      "text/plain": [
       "<AxesSubplot:xlabel='Employment Duration', ylabel='count'>"
      ]
     },
     "execution_count": 14,
     "metadata": {},
     "output_type": "execute_result"
    },
    {
     "data": {
      "image/png": "[encoded data removed]",
      "text/plain": [
       "<Figure size 720x432 with 1 Axes>"
      ]
     },
     "metadata": {},
     "output_type": "display_data"
    }
   ],
   "source": [
    "sns.countplot(data=df,x='Employment Duration',hue='Loan Status')"
   ]
  },
  {
   "cell_type": "code",
   "execution_count": 15,
   "id": "36421562",
   "metadata": {},
   "outputs": [
    {
     "data": {
      "text/plain": [
       "<AxesSubplot:xlabel='Verification Status', ylabel='count'>"
      ]
     },
     "execution_count": 15,
     "metadata": {},
     "output_type": "execute_result"
    },
    {
     "data": {
      "image/png": "[encoded data removed]",
      "text/plain": [
       "<Figure size 720x432 with 1 Axes>"
      ]
     },
     "metadata": {},
     "output_type": "display_data"
    }
   ],
   "source": [
    "sns.countplot(data=df,x='Verification Status',hue='Loan Status')"
   ]
  },
  {
   "cell_type": "code",
   "execution_count": 16,
   "id": "99f53622",
   "metadata": {},
   "outputs": [
    {
     "data": {
      "text/plain": [
       "0    61222\n",
       "1     6241\n",
       "Name: Loan Status, dtype: int64"
      ]
     },
     "execution_count": 16,
     "metadata": {},
     "output_type": "execute_result"
    }
   ],
   "source": [
    "df['Loan Status'].value_counts()"
   ]
  },
  {
   "cell_type": "code",
   "execution_count": 17,
   "id": "4e57cb94",
   "metadata": {},
   "outputs": [
    {
     "data": {
      "image/png": "[encoded data removed]",
      "text/plain": [
       "<Figure size 720x432 with 1 Axes>"
      ]
     },
     "metadata": {},
     "output_type": "display_data"
    }
   ],
   "source": [
    "sns.countplot(df['Loan Status'])\n",
    "plt.show()"
   ]
  },
  {
   "cell_type": "code",
   "execution_count": 18,
   "id": "546f4798",
   "metadata": {},
   "outputs": [
    {
     "data": {
      "text/plain": [
       "<AxesSubplot:ylabel='Loan Status'>"
      ]
     },
     "execution_count": 18,
     "metadata": {},
     "output_type": "execute_result"
    },
    {
     "data": {
      "image/png": "[encoded data removed]",
      "text/plain": [
       "<Figure size 720x432 with 1 Axes>"
      ]
     },
     "metadata": {},
     "output_type": "display_data"
    }
   ],
   "source": [
    "df['Loan Status'].value_counts().plot(kind=\"pie\",labels=['No','Yes'],autopct='%1.2f%%',explode=[0.05,0.1])"
   ]
  },
  {
   "cell_type": "code",
   "execution_count": 19,
   "id": "30b9663b",
   "metadata": {},
   "outputs": [],
   "source": [
    "df.drop(columns=['ID','Batch Enrolled','Grade','Sub Grade','Payment Plan','Loan Title','Accounts Delinquent'],axis=1,inplace=True)"
   ]
  },
  {
   "cell_type": "code",
   "execution_count": 20,
   "id": "7f7fcc5b",
   "metadata": {},
   "outputs": [
    {
     "data": {
      "text/html": [
       "<div>\n",
       "<style scoped>\n",
       "    .dataframe tbody tr th:only-of-type {\n",
       "        vertical-align: middle;\n",
       "    }\n",
       "\n",
       "    .dataframe tbody tr th {\n",
       "        vertical-align: top;\n",
       "    }\n",
       "\n",
       "    .dataframe thead th {\n",
       "        text-align: right;\n",
       "    }\n",
       "</style>\n",
       "<table border=\"1\" class=\"dataframe\">\n",
       "  <thead>\n",
       "    <tr style=\"text-align: right;\">\n",
       "      <th></th>\n",
       "      <th>Loan Amount</th>\n",
       "      <th>Funded Amount</th>\n",
       "      <th>Funded Amount Investor</th>\n",
       "      <th>Term</th>\n",
       "      <th>Interest Rate</th>\n",
       "      <th>Employment Duration</th>\n",
       "      <th>Home Ownership</th>\n",
       "      <th>Verification Status</th>\n",
       "      <th>Debit to Income</th>\n",
       "      <th>Delinquency - two years</th>\n",
       "      <th>...</th>\n",
       "      <th>Total Received Late Fee</th>\n",
       "      <th>Recoveries</th>\n",
       "      <th>Collection Recovery Fee</th>\n",
       "      <th>Collection 12 months Medical</th>\n",
       "      <th>Application Type</th>\n",
       "      <th>Last week Pay</th>\n",
       "      <th>Total Collection Amount</th>\n",
       "      <th>Total Current Balance</th>\n",
       "      <th>Total Revolving Credit Limit</th>\n",
       "      <th>Loan Status</th>\n",
       "    </tr>\n",
       "  </thead>\n",
       "  <tbody>\n",
       "    <tr>\n",
       "      <th>0</th>\n",
       "      <td>10000</td>\n",
       "      <td>32236</td>\n",
       "      <td>12329.36286</td>\n",
       "      <td>59</td>\n",
       "      <td>11.135007</td>\n",
       "      <td>MORTGAGE</td>\n",
       "      <td>176346.62670</td>\n",
       "      <td>Not Verified</td>\n",
       "      <td>16.284758</td>\n",
       "      <td>1</td>\n",
       "      <td>...</td>\n",
       "      <td>0.102055</td>\n",
       "      <td>2.498291</td>\n",
       "      <td>0.793724</td>\n",
       "      <td>0</td>\n",
       "      <td>INDIVIDUAL</td>\n",
       "      <td>49</td>\n",
       "      <td>31</td>\n",
       "      <td>311301</td>\n",
       "      <td>6619</td>\n",
       "      <td>0</td>\n",
       "    </tr>\n",
       "    <tr>\n",
       "      <th>1</th>\n",
       "      <td>3609</td>\n",
       "      <td>11940</td>\n",
       "      <td>12191.99692</td>\n",
       "      <td>59</td>\n",
       "      <td>12.237563</td>\n",
       "      <td>RENT</td>\n",
       "      <td>39833.92100</td>\n",
       "      <td>Source Verified</td>\n",
       "      <td>15.412409</td>\n",
       "      <td>0</td>\n",
       "      <td>...</td>\n",
       "      <td>0.036181</td>\n",
       "      <td>2.377215</td>\n",
       "      <td>0.974821</td>\n",
       "      <td>0</td>\n",
       "      <td>INDIVIDUAL</td>\n",
       "      <td>109</td>\n",
       "      <td>53</td>\n",
       "      <td>182610</td>\n",
       "      <td>20885</td>\n",
       "      <td>0</td>\n",
       "    </tr>\n",
       "    <tr>\n",
       "      <th>2</th>\n",
       "      <td>28276</td>\n",
       "      <td>9311</td>\n",
       "      <td>21603.22455</td>\n",
       "      <td>59</td>\n",
       "      <td>12.545884</td>\n",
       "      <td>MORTGAGE</td>\n",
       "      <td>91506.69105</td>\n",
       "      <td>Source Verified</td>\n",
       "      <td>28.137619</td>\n",
       "      <td>0</td>\n",
       "      <td>...</td>\n",
       "      <td>18.778660</td>\n",
       "      <td>4.316277</td>\n",
       "      <td>1.020075</td>\n",
       "      <td>0</td>\n",
       "      <td>INDIVIDUAL</td>\n",
       "      <td>66</td>\n",
       "      <td>34</td>\n",
       "      <td>89801</td>\n",
       "      <td>26155</td>\n",
       "      <td>0</td>\n",
       "    </tr>\n",
       "  </tbody>\n",
       "</table>\n",
       "<p>3 rows × 28 columns</p>\n",
       "</div>"
      ],
      "text/plain": [
       "   Loan Amount  Funded Amount  Funded Amount Investor  Term  Interest Rate  \\\n",
       "0        10000          32236             12329.36286    59      11.135007   \n",
       "1         3609          11940             12191.99692    59      12.237563   \n",
       "2        28276           9311             21603.22455    59      12.545884   \n",
       "\n",
       "  Employment Duration  Home Ownership Verification Status  Debit to Income  \\\n",
       "0            MORTGAGE    176346.62670        Not Verified        16.284758   \n",
       "1                RENT     39833.92100     Source Verified        15.412409   \n",
       "2            MORTGAGE     91506.69105     Source Verified        28.137619   \n",
       "\n",
       "   Delinquency - two years  ...  Total Received Late Fee  Recoveries  \\\n",
       "0                        1  ...                 0.102055    2.498291   \n",
       "1                        0  ...                 0.036181    2.377215   \n",
       "2                        0  ...                18.778660    4.316277   \n",
       "\n",
       "   Collection Recovery Fee  Collection 12 months Medical  Application Type  \\\n",
       "0                 0.793724                             0        INDIVIDUAL   \n",
       "1                 0.974821                             0        INDIVIDUAL   \n",
       "2                 1.020075                             0        INDIVIDUAL   \n",
       "\n",
       "   Last week Pay Total Collection Amount  Total Current Balance  \\\n",
       "0             49                      31                 311301   \n",
       "1            109                      53                 182610   \n",
       "2             66                      34                  89801   \n",
       "\n",
       "   Total Revolving Credit Limit  Loan Status  \n",
       "0                          6619            0  \n",
       "1                         20885            0  \n",
       "2                         26155            0  \n",
       "\n",
       "[3 rows x 28 columns]"
      ]
     },
     "execution_count": 20,
     "metadata": {},
     "output_type": "execute_result"
    }
   ],
   "source": [
    "df.head(3)"
   ]
  },
  {
   "cell_type": "code",
   "execution_count": 21,
   "id": "06ee8eb3",
   "metadata": {},
   "outputs": [
    {
     "data": {
      "text/plain": [
       "(67463, 28)"
      ]
     },
     "execution_count": 21,
     "metadata": {},
     "output_type": "execute_result"
    }
   ],
   "source": [
    "df.shape"
   ]
  },
  {
   "cell_type": "markdown",
   "id": "4556ac76",
   "metadata": {},
   "source": [
    "## Part 3:  Data preparation for model building: "
   ]
  },
  {
   "cell_type": "code",
   "execution_count": 22,
   "id": "b50cc60e",
   "metadata": {},
   "outputs": [],
   "source": [
    "X=df.drop('Loan Status',axis=1)\n",
    "Y=df['Loan Status']"
   ]
  },
  {
   "cell_type": "code",
   "execution_count": 23,
   "id": "61191b53",
   "metadata": {},
   "outputs": [
    {
     "name": "stdout",
     "output_type": "stream",
     "text": [
      "<class 'pandas.core.frame.DataFrame'>\n",
      "RangeIndex: 67463 entries, 0 to 67462\n",
      "Data columns (total 28 columns):\n",
      " #   Column                        Non-Null Count  Dtype  \n",
      "---  ------                        --------------  -----  \n",
      " 0   Loan Amount                   67463 non-null  int64  \n",
      " 1   Funded Amount                 67463 non-null  int64  \n",
      " 2   Funded Amount Investor        67463 non-null  float64\n",
      " 3   Term                          67463 non-null  int64  \n",
      " 4   Interest Rate                 67463 non-null  float64\n",
      " 5   Employment Duration           67463 non-null  object \n",
      " 6   Home Ownership                67463 non-null  float64\n",
      " 7   Verification Status           67463 non-null  object \n",
      " 8   Debit to Income               67463 non-null  float64\n",
      " 9   Delinquency - two years       67463 non-null  int64  \n",
      " 10  Inquires - six months         67463 non-null  int64  \n",
      " 11  Open Account                  67463 non-null  int64  \n",
      " 12  Public Record                 67463 non-null  int64  \n",
      " 13  Revolving Balance             67463 non-null  int64  \n",
      " 14  Revolving Utilities           67463 non-null  float64\n",
      " 15  Total Accounts                67463 non-null  int64  \n",
      " 16  Initial List Status           67463 non-null  object \n",
      " 17  Total Received Interest       67463 non-null  float64\n",
      " 18  Total Received Late Fee       67463 non-null  float64\n",
      " 19  Recoveries                    67463 non-null  float64\n",
      " 20  Collection Recovery Fee       67463 non-null  float64\n",
      " 21  Collection 12 months Medical  67463 non-null  int64  \n",
      " 22  Application Type              67463 non-null  object \n",
      " 23  Last week Pay                 67463 non-null  int64  \n",
      " 24  Total Collection Amount       67463 non-null  int64  \n",
      " 25  Total Current Balance         67463 non-null  int64  \n",
      " 26  Total Revolving Credit Limit  67463 non-null  int64  \n",
      " 27  Loan Status                   67463 non-null  int64  \n",
      "dtypes: float64(9), int64(15), object(4)\n",
      "memory usage: 14.4+ MB\n"
     ]
    }
   ],
   "source": [
    "df.info()"
   ]
  },
  {
   "cell_type": "code",
   "execution_count": 24,
   "id": "93198b13",
   "metadata": {},
   "outputs": [
    {
     "data": {
      "text/plain": [
       "MORTGAGE    36351\n",
       "RENT        24150\n",
       "OWN          6962\n",
       "Name: Employment Duration, dtype: int64"
      ]
     },
     "execution_count": 24,
     "metadata": {},
     "output_type": "execute_result"
    }
   ],
   "source": [
    "df['Employment Duration'].value_counts()"
   ]
  },
  {
   "cell_type": "code",
   "execution_count": 25,
   "id": "fb279306",
   "metadata": {},
   "outputs": [
    {
     "data": {
      "text/html": [
       "<div>\n",
       "<style scoped>\n",
       "    .dataframe tbody tr th:only-of-type {\n",
       "        vertical-align: middle;\n",
       "    }\n",
       "\n",
       "    .dataframe tbody tr th {\n",
       "        vertical-align: top;\n",
       "    }\n",
       "\n",
       "    .dataframe thead th {\n",
       "        text-align: right;\n",
       "    }\n",
       "</style>\n",
       "<table border=\"1\" class=\"dataframe\">\n",
       "  <thead>\n",
       "    <tr style=\"text-align: right;\">\n",
       "      <th></th>\n",
       "      <th>Loan Amount</th>\n",
       "      <th>Funded Amount</th>\n",
       "      <th>Funded Amount Investor</th>\n",
       "      <th>Term</th>\n",
       "      <th>Interest Rate</th>\n",
       "      <th>Home Ownership</th>\n",
       "      <th>Debit to Income</th>\n",
       "      <th>Delinquency - two years</th>\n",
       "      <th>Inquires - six months</th>\n",
       "      <th>Open Account</th>\n",
       "      <th>...</th>\n",
       "      <th>Last week Pay</th>\n",
       "      <th>Total Collection Amount</th>\n",
       "      <th>Total Current Balance</th>\n",
       "      <th>Total Revolving Credit Limit</th>\n",
       "      <th>Employment Duration_OWN</th>\n",
       "      <th>Employment Duration_RENT</th>\n",
       "      <th>Verification Status_Source Verified</th>\n",
       "      <th>Verification Status_Verified</th>\n",
       "      <th>Initial List Status_w</th>\n",
       "      <th>Application Type_JOINT</th>\n",
       "    </tr>\n",
       "  </thead>\n",
       "  <tbody>\n",
       "    <tr>\n",
       "      <th>0</th>\n",
       "      <td>10000</td>\n",
       "      <td>32236</td>\n",
       "      <td>12329.36286</td>\n",
       "      <td>59</td>\n",
       "      <td>11.135007</td>\n",
       "      <td>176346.6267</td>\n",
       "      <td>16.284758</td>\n",
       "      <td>1</td>\n",
       "      <td>0</td>\n",
       "      <td>13</td>\n",
       "      <td>...</td>\n",
       "      <td>49</td>\n",
       "      <td>31</td>\n",
       "      <td>311301</td>\n",
       "      <td>6619</td>\n",
       "      <td>0</td>\n",
       "      <td>0</td>\n",
       "      <td>0</td>\n",
       "      <td>0</td>\n",
       "      <td>1</td>\n",
       "      <td>0</td>\n",
       "    </tr>\n",
       "    <tr>\n",
       "      <th>1</th>\n",
       "      <td>3609</td>\n",
       "      <td>11940</td>\n",
       "      <td>12191.99692</td>\n",
       "      <td>59</td>\n",
       "      <td>12.237563</td>\n",
       "      <td>39833.9210</td>\n",
       "      <td>15.412409</td>\n",
       "      <td>0</td>\n",
       "      <td>0</td>\n",
       "      <td>12</td>\n",
       "      <td>...</td>\n",
       "      <td>109</td>\n",
       "      <td>53</td>\n",
       "      <td>182610</td>\n",
       "      <td>20885</td>\n",
       "      <td>0</td>\n",
       "      <td>1</td>\n",
       "      <td>1</td>\n",
       "      <td>0</td>\n",
       "      <td>0</td>\n",
       "      <td>0</td>\n",
       "    </tr>\n",
       "  </tbody>\n",
       "</table>\n",
       "<p>2 rows × 29 columns</p>\n",
       "</div>"
      ],
      "text/plain": [
       "   Loan Amount  Funded Amount  Funded Amount Investor  Term  Interest Rate  \\\n",
       "0        10000          32236             12329.36286    59      11.135007   \n",
       "1         3609          11940             12191.99692    59      12.237563   \n",
       "\n",
       "   Home Ownership  Debit to Income  Delinquency - two years  \\\n",
       "0     176346.6267        16.284758                        1   \n",
       "1      39833.9210        15.412409                        0   \n",
       "\n",
       "   Inquires - six months  Open Account  ...  Last week Pay  \\\n",
       "0                      0            13  ...             49   \n",
       "1                      0            12  ...            109   \n",
       "\n",
       "   Total Collection Amount  Total Current Balance  \\\n",
       "0                       31                 311301   \n",
       "1                       53                 182610   \n",
       "\n",
       "   Total Revolving Credit Limit  Employment Duration_OWN  \\\n",
       "0                          6619                        0   \n",
       "1                         20885                        0   \n",
       "\n",
       "   Employment Duration_RENT  Verification Status_Source Verified  \\\n",
       "0                         0                                    0   \n",
       "1                         1                                    1   \n",
       "\n",
       "   Verification Status_Verified  Initial List Status_w  Application Type_JOINT  \n",
       "0                             0                      1                       0  \n",
       "1                             0                      0                       0  \n",
       "\n",
       "[2 rows x 29 columns]"
      ]
     },
     "execution_count": 25,
     "metadata": {},
     "output_type": "execute_result"
    }
   ],
   "source": [
    "X = pd.get_dummies(X,drop_first=True)\n",
    "X.head(2)"
   ]
  },
  {
   "cell_type": "code",
   "execution_count": 26,
   "id": "55bdf4e2",
   "metadata": {},
   "outputs": [
    {
     "name": "stdout",
     "output_type": "stream",
     "text": [
      "Requirement already satisfied: imblearn in c:\\users\\shayak\\anaconda3\\lib\\site-packages (0.0)\n",
      "Requirement already satisfied: imbalanced-learn in c:\\users\\shayak\\anaconda3\\lib\\site-packages (from imblearn) (0.10.1)\n",
      "Requirement already satisfied: numpy>=1.17.3 in c:\\users\\shayak\\anaconda3\\lib\\site-packages (from imbalanced-learn->imblearn) (1.21.5)\n",
      "Requirement already satisfied: scipy>=1.3.2 in c:\\users\\shayak\\anaconda3\\lib\\site-packages (from imbalanced-learn->imblearn) (1.7.3)\n",
      "Requirement already satisfied: threadpoolctl>=2.0.0 in c:\\users\\shayak\\anaconda3\\lib\\site-packages (from imbalanced-learn->imblearn) (2.2.0)\n",
      "Requirement already satisfied: scikit-learn>=1.0.2 in c:\\users\\shayak\\anaconda3\\lib\\site-packages (from imbalanced-learn->imblearn) (1.0.2)\n",
      "Requirement already satisfied: joblib>=1.1.1 in c:\\users\\shayak\\anaconda3\\lib\\site-packages (from imbalanced-learn->imblearn) (1.3.0)\n"
     ]
    }
   ],
   "source": [
    "!pip3 install imblearn"
   ]
  },
  {
   "cell_type": "code",
   "execution_count": 27,
   "id": "1768b0a0",
   "metadata": {},
   "outputs": [],
   "source": [
    "from imblearn.over_sampling import SMOTE\n",
    "sm=SMOTE(sampling_strategy=1,k_neighbors=5,random_state=1)\n",
    "X_resample, Y_resample = sm.fit_resample(X, Y)"
   ]
  },
  {
   "cell_type": "code",
   "execution_count": 28,
   "id": "0a8a895d",
   "metadata": {},
   "outputs": [
    {
     "name": "stdout",
     "output_type": "stream",
     "text": [
      "After UpSampling, counts of label '1': 61222\n",
      "After UpSampling, counts of label '0': 61222 \n",
      "\n"
     ]
    }
   ],
   "source": [
    "print(\"After UpSampling, counts of label '1': {}\".format(sum(Y_resample==1)))\n",
    "print(\"After UpSampling, counts of label '0': {} \\n\".format(sum(Y_resample==0)))"
   ]
  },
  {
   "cell_type": "code",
   "execution_count": 29,
   "id": "a7ba7255",
   "metadata": {},
   "outputs": [
    {
     "name": "stdout",
     "output_type": "stream",
     "text": [
      "(122444, 29) (122444,)\n"
     ]
    }
   ],
   "source": [
    "print(X_resample.shape,Y_resample.shape)"
   ]
  },
  {
   "cell_type": "code",
   "execution_count": 30,
   "id": "5da64a2f",
   "metadata": {},
   "outputs": [],
   "source": [
    "from sklearn.model_selection import train_test_split\n",
    "X_train,X_test,Y_train,Y_test=train_test_split(X_resample,Y_resample,test_size=0.3,random_state=42)"
   ]
  },
  {
   "cell_type": "code",
   "execution_count": 31,
   "id": "6a3f9e41",
   "metadata": {},
   "outputs": [
    {
     "name": "stdout",
     "output_type": "stream",
     "text": [
      "(85710, 29) (36734, 29) (85710,) (36734,)\n"
     ]
    }
   ],
   "source": [
    "print(X_train.shape,X_test.shape,Y_train.shape,Y_test.shape)"
   ]
  },
  {
   "cell_type": "code",
   "execution_count": 32,
   "id": "9adc4255",
   "metadata": {},
   "outputs": [],
   "source": [
    "from sklearn.feature_selection import SelectFromModel\n",
    "from sklearn.ensemble import RandomForestClassifier"
   ]
  },
  {
   "cell_type": "code",
   "execution_count": 33,
   "id": "05036d84",
   "metadata": {},
   "outputs": [
    {
     "data": {
      "text/plain": [
       "SelectFromModel(estimator=RandomForestClassifier())"
      ]
     },
     "execution_count": 33,
     "metadata": {},
     "output_type": "execute_result"
    }
   ],
   "source": [
    "selector = SelectFromModel(estimator=RandomForestClassifier())\n",
    "selector.fit(X_resample,Y_resample)"
   ]
  },
  {
   "cell_type": "code",
   "execution_count": 34,
   "id": "6ea7d4a0",
   "metadata": {},
   "outputs": [
    {
     "data": {
      "text/plain": [
       "array([ True,  True,  True, False,  True,  True,  True, False, False,\n",
       "       False, False,  True,  True, False,  True,  True,  True,  True,\n",
       "       False,  True,  True,  True,  True, False,  True,  True,  True,\n",
       "        True, False])"
      ]
     },
     "execution_count": 34,
     "metadata": {},
     "output_type": "execute_result"
    }
   ],
   "source": [
    "selector.get_support()"
   ]
  },
  {
   "cell_type": "code",
   "execution_count": 35,
   "id": "f6c9df37",
   "metadata": {},
   "outputs": [
    {
     "name": "stdout",
     "output_type": "stream",
     "text": [
      "Index(['Loan Amount', 'Funded Amount', 'Funded Amount Investor',\n",
      "       'Interest Rate', 'Home Ownership', 'Debit to Income',\n",
      "       'Revolving Balance', 'Revolving Utilities', 'Total Received Interest',\n",
      "       'Total Received Late Fee', 'Recoveries', 'Collection Recovery Fee',\n",
      "       'Last week Pay', 'Total Collection Amount', 'Total Current Balance',\n",
      "       'Total Revolving Credit Limit', 'Employment Duration_RENT',\n",
      "       'Verification Status_Source Verified', 'Verification Status_Verified',\n",
      "       'Initial List Status_w'],\n",
      "      dtype='object')\n",
      "\n",
      "\n",
      "number of features selected out of 29 features: 20\n"
     ]
    }
   ],
   "source": [
    "selected_features = X_resample.columns[(selector.get_support())]\n",
    "print(selected_features)\n",
    "print('\\n')\n",
    "print('number of features selected out of 29 features:',len(selected_features))"
   ]
  },
  {
   "cell_type": "code",
   "execution_count": 36,
   "id": "108d3fda",
   "metadata": {},
   "outputs": [
    {
     "name": "stdout",
     "output_type": "stream",
     "text": [
      "(47224, 29) (20239, 29)\n",
      "(47224,) (20239,)\n"
     ]
    }
   ],
   "source": [
    "X_train_base, X_test_base, Y_train_base, Y_test_base = train_test_split(X,Y, test_size=0.3, random_state=42)\n",
    "\n",
    "print(X_train_base.shape,X_test_base.shape)\n",
    "print(Y_train_base.shape,Y_test_base.shape)"
   ]
  },
  {
   "cell_type": "code",
   "execution_count": 37,
   "id": "5686d2e5",
   "metadata": {},
   "outputs": [
    {
     "data": {
      "text/plain": [
       "RandomForestClassifier()"
      ]
     },
     "execution_count": 37,
     "metadata": {},
     "output_type": "execute_result"
    }
   ],
   "source": [
    "rf=RandomForestClassifier()\n",
    "rf.fit(X_train_base,Y_train_base)"
   ]
  },
  {
   "cell_type": "code",
   "execution_count": 38,
   "id": "2ac53851",
   "metadata": {},
   "outputs": [
    {
     "name": "stdout",
     "output_type": "stream",
     "text": [
      "Training accuracy: 0.9999576486532272\n",
      "Testing accuracy: 0.9084440930876031\n"
     ]
    }
   ],
   "source": [
    "print(\"Training accuracy:\",rf.score(X_train_base,Y_train_base))\n",
    "print(\"Testing accuracy:\",rf.score(X_test_base,Y_test_base))"
   ]
  },
  {
   "cell_type": "code",
   "execution_count": 39,
   "id": "2c1ba868",
   "metadata": {},
   "outputs": [],
   "source": [
    "from sklearn.metrics import recall_score,classification_report,accuracy_score"
   ]
  },
  {
   "cell_type": "code",
   "execution_count": 40,
   "id": "82a64b4b",
   "metadata": {},
   "outputs": [],
   "source": [
    "Y_pred_base=rf.predict(X_test_base)"
   ]
  },
  {
   "cell_type": "code",
   "execution_count": 41,
   "id": "9e13894f",
   "metadata": {},
   "outputs": [
    {
     "name": "stdout",
     "output_type": "stream",
     "text": [
      "Recall: 0.0\n"
     ]
    }
   ],
   "source": [
    "print(\"Recall:\",recall_score(Y_pred_base,Y_test_base))"
   ]
  },
  {
   "cell_type": "code",
   "execution_count": 42,
   "id": "13ed94b1",
   "metadata": {},
   "outputs": [
    {
     "name": "stdout",
     "output_type": "stream",
     "text": [
      "Classification Report:               precision    recall  f1-score   support\n",
      "\n",
      "           0       1.00      0.91      0.95     20239\n",
      "           1       0.00      0.00      0.00         0\n",
      "\n",
      "    accuracy                           0.91     20239\n",
      "   macro avg       0.50      0.45      0.48     20239\n",
      "weighted avg       1.00      0.91      0.95     20239\n",
      "\n"
     ]
    }
   ],
   "source": [
    "print(\"Classification Report:\", classification_report(Y_pred_base,Y_test_base))"
   ]
  },
  {
   "cell_type": "code",
   "execution_count": 43,
   "id": "06c0f3c9",
   "metadata": {},
   "outputs": [],
   "source": [
    "from sklearn.model_selection import RandomizedSearchCV"
   ]
  },
  {
   "cell_type": "code",
   "execution_count": 44,
   "id": "3532fbe9",
   "metadata": {},
   "outputs": [],
   "source": [
    "param_rf = [{'n_estimators':[100, 200, 500],'max_depth':[7,9, 13,15,19]}]"
   ]
  },
  {
   "cell_type": "code",
   "execution_count": 45,
   "id": "2ee14312",
   "metadata": {},
   "outputs": [],
   "source": [
    "tuning = RandomizedSearchCV(rf,param_rf,cv=3,n_jobs=-1,verbose=1)"
   ]
  },
  {
   "cell_type": "code",
   "execution_count": 46,
   "id": "5ae5cc19",
   "metadata": {},
   "outputs": [
    {
     "name": "stdout",
     "output_type": "stream",
     "text": [
      "Fitting 3 folds for each of 10 candidates, totalling 30 fits\n"
     ]
    },
    {
     "data": {
      "text/plain": [
       "RandomizedSearchCV(cv=3, estimator=RandomForestClassifier(), n_jobs=-1,\n",
       "                   param_distributions=[{'max_depth': [7, 9, 13, 15, 19],\n",
       "                                         'n_estimators': [100, 200, 500]}],\n",
       "                   verbose=1)"
      ]
     },
     "execution_count": 46,
     "metadata": {},
     "output_type": "execute_result"
    }
   ],
   "source": [
    "tuning.fit(X_resample[selected_features],Y_resample)"
   ]
  },
  {
   "cell_type": "code",
   "execution_count": 47,
   "id": "e411cd2b",
   "metadata": {},
   "outputs": [
    {
     "data": {
      "text/plain": [
       "{'n_estimators': 200, 'max_depth': 19}"
      ]
     },
     "execution_count": 47,
     "metadata": {},
     "output_type": "execute_result"
    }
   ],
   "source": [
    "tuning.best_params_"
   ]
  },
  {
   "cell_type": "markdown",
   "id": "ecbfcf06",
   "metadata": {},
   "source": [
    "## Part 5: ML Pipeline "
   ]
  },
  {
   "cell_type": "code",
   "execution_count": 48,
   "id": "e3ffe39c",
   "metadata": {},
   "outputs": [],
   "source": [
    "from sklearn.pipeline import Pipeline\n",
    "from sklearn.preprocessing import StandardScaler\n",
    "pipeline=Pipeline([('ss',StandardScaler()),('feature selection',selector),('estimator',RandomForestClassifier(n_estimators=500,max_depth=25))])"
   ]
  },
  {
   "cell_type": "code",
   "execution_count": 49,
   "id": "bc09456a",
   "metadata": {},
   "outputs": [
    {
     "data": {
      "text/plain": [
       "Pipeline(steps=[('ss', StandardScaler()),\n",
       "                ('feature selection',\n",
       "                 SelectFromModel(estimator=RandomForestClassifier())),\n",
       "                ('estimator',\n",
       "                 RandomForestClassifier(max_depth=25, n_estimators=500))])"
      ]
     },
     "execution_count": 49,
     "metadata": {},
     "output_type": "execute_result"
    }
   ],
   "source": [
    "pipeline.fit(X_train,Y_train)"
   ]
  },
  {
   "cell_type": "code",
   "execution_count": 50,
   "id": "2eb2b7e3",
   "metadata": {},
   "outputs": [],
   "source": [
    "predict=pipeline.predict(X_test)"
   ]
  },
  {
   "cell_type": "code",
   "execution_count": 51,
   "id": "56abc4ab",
   "metadata": {},
   "outputs": [
    {
     "name": "stdout",
     "output_type": "stream",
     "text": [
      "Accuracy: 0.8490227037621821\n",
      "Recall: 0.8466281099956351\n",
      "Classification Report:\n",
      "               precision    recall  f1-score   support\n",
      "\n",
      "           0       0.85      0.85      0.85     18406\n",
      "           1       0.85      0.85      0.85     18328\n",
      "\n",
      "    accuracy                           0.85     36734\n",
      "   macro avg       0.85      0.85      0.85     36734\n",
      "weighted avg       0.85      0.85      0.85     36734\n",
      "\n"
     ]
    }
   ],
   "source": [
    "print(\"Accuracy:\", pipeline.score(X_test,Y_test))\n",
    "print(\"Recall:\", recall_score(predict,Y_test))\n",
    "print(\"Classification Report:\\n\", classification_report(predict,Y_test))"
   ]
  },
  {
   "cell_type": "markdown",
   "id": "e5fa88b7",
   "metadata": {},
   "source": [
    "## Part 6:Conclusion "
   ]
  },
  {
   "cell_type": "code",
   "execution_count": 52,
   "id": "a0870f93",
   "metadata": {},
   "outputs": [
    {
     "name": "stdout",
     "output_type": "stream",
     "text": [
      "Base model results:\n",
      "Accuracy: 0.9084440930876031\n",
      "Recall: 0.0\n",
      "Confusion Matrix:\n",
      "               precision    recall  f1-score   support\n",
      "\n",
      "           0       1.00      0.91      0.95     20239\n",
      "           1       0.00      0.00      0.00         0\n",
      "\n",
      "    accuracy                           0.91     20239\n",
      "   macro avg       0.50      0.45      0.48     20239\n",
      "weighted avg       1.00      0.91      0.95     20239\n",
      "\n",
      "----------------------------------------------------------------------------------------------------\n",
      "Tuned model results:\n",
      "Accuracy: 0.8490227037621821\n",
      "Recall: 0.8466281099956351\n",
      "Confusion Matrix:\n",
      "               precision    recall  f1-score   support\n",
      "\n",
      "           0       0.85      0.85      0.85     18406\n",
      "           1       0.85      0.85      0.85     18328\n",
      "\n",
      "    accuracy                           0.85     36734\n",
      "   macro avg       0.85      0.85      0.85     36734\n",
      "weighted avg       0.85      0.85      0.85     36734\n",
      "\n"
     ]
    }
   ],
   "source": [
    "print('Base model results:')\n",
    "print(\"Accuracy:\",accuracy_score(Y_pred_base,Y_test_base))\n",
    "print(\"Recall:\",recall_score(Y_pred_base,Y_test_base))\n",
    "print(\"Confusion Matrix:\\n\",classification_report(Y_pred_base,Y_test_base))\n",
    "print('--'*50)\n",
    "print('Tuned model results:')\n",
    "print(\"Accuracy:\",accuracy_score(predict,Y_test))\n",
    "print(\"Recall:\",recall_score(predict,Y_test))\n",
    "print(\"Confusion Matrix:\\n\",classification_report(predict,Y_test))"
   ]
  },
  {
   "cell_type": "markdown",
   "id": "a6895a52",
   "metadata": {},
   "source": [
    "- The dataset is imbalanced so we balanced is using oversampling(SMOTE) method.\n",
    "- Afterthat we drop redandunt or less important fratures and select 20 best features based on their importance.\n",
    "- Then we use Random Search Classifier,check performance and tuned the model using Random Search approach.\n",
    "- At last we build pipeline, pass the training data and check the performence."
   ]
  }
 ],
 "metadata": {
  "kernelspec": {
   "display_name": "Python 3 (ipykernel)",
   "language": "python",
   "name": "python3"
  },
  "language_info": {
   "codemirror_mode": {
    "name": "ipython",
    "version": 3
   },
   "file_extension": ".py",
   "mimetype": "text/x-python",
   "name": "python",
   "nbconvert_exporter": "python",
   "pygments_lexer": "ipython3",
   "version": "3.9.12"
  }
 },
 "nbformat": 4,
 "nbformat_minor": 5
}
